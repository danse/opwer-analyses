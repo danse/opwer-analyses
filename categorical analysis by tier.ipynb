{
 "cells": [
  {
   "cell_type": "code",
   "execution_count": 1,
   "metadata": {
    "collapsed": true
   },
   "outputs": [],
   "source": [
    "d <- read.csv('output.csv')"
   ]
  },
  {
   "cell_type": "code",
   "execution_count": 2,
   "metadata": {
    "collapsed": false
   },
   "outputs": [
    {
     "data": {
      "text/html": [
       "<table>\n",
       "<thead><tr><th scope=col>cand</th><th scope=col>inte</th><th scope=col>tier</th><th scope=col>char</th><th scope=col>amou</th></tr></thead>\n",
       "<tbody>\n",
       "\t<tr><td>23      </td><td>0.30    </td><td>2       </td><td>10000.00</td><td>0       </td></tr>\n",
       "\t<tr><td>41      </td><td>0.00    </td><td>1       </td><td>   33.33</td><td>0       </td></tr>\n",
       "\t<tr><td>10      </td><td>0.20    </td><td>1       </td><td>    0.00</td><td>0       </td></tr>\n",
       "\t<tr><td>17      </td><td>0.00    </td><td>1       </td><td>  571.54</td><td>0       </td></tr>\n",
       "\t<tr><td>23      </td><td>0.22    </td><td>1       </td><td>  250.00</td><td>0       </td></tr>\n",
       "\t<tr><td>16      </td><td>0.31    </td><td>2       </td><td>    0.00</td><td>0       </td></tr>\n",
       "</tbody>\n",
       "</table>\n"
      ],
      "text/latex": [
       "\\begin{tabular}{r|lllll}\n",
       " cand & inte & tier & char & amou\\\\\n",
       "\\hline\n",
       "\t 23       & 0.30     & 2        & 10000.00 & 0       \\\\\n",
       "\t 41       & 0.00     & 1        &    33.33 & 0       \\\\\n",
       "\t 10       & 0.20     & 1        &     0.00 & 0       \\\\\n",
       "\t 17       & 0.00     & 1        &   571.54 & 0       \\\\\n",
       "\t 23       & 0.22     & 1        &   250.00 & 0       \\\\\n",
       "\t 16       & 0.31     & 2        &     0.00 & 0       \\\\\n",
       "\\end{tabular}\n"
      ],
      "text/markdown": [
       "\n",
       "cand | inte | tier | char | amou | \n",
       "|---|---|---|---|---|---|\n",
       "| 23       | 0.30     | 2        | 10000.00 | 0        | \n",
       "| 41       | 0.00     | 1        |    33.33 | 0        | \n",
       "| 10       | 0.20     | 1        |     0.00 | 0        | \n",
       "| 17       | 0.00     | 1        |   571.54 | 0        | \n",
       "| 23       | 0.22     | 1        |   250.00 | 0        | \n",
       "| 16       | 0.31     | 2        |     0.00 | 0        | \n",
       "\n",
       "\n"
      ],
      "text/plain": [
       "  cand inte tier char     amou\n",
       "1 23   0.30 2    10000.00 0   \n",
       "2 41   0.00 1       33.33 0   \n",
       "3 10   0.20 1        0.00 0   \n",
       "4 17   0.00 1      571.54 0   \n",
       "5 23   0.22 1      250.00 0   \n",
       "6 16   0.31 2        0.00 0   "
      ]
     },
     "metadata": {},
     "output_type": "display_data"
    }
   ],
   "source": [
    "head(d)"
   ]
  },
  {
   "cell_type": "code",
   "execution_count": 14,
   "metadata": {
    "collapsed": false
   },
   "outputs": [
    {
     "data": {
      "text/html": [
       "7853.70624657534"
      ],
      "text/latex": [
       "7853.70624657534"
      ],
      "text/markdown": [
       "7853.70624657534"
      ],
      "text/plain": [
       "[1] 7853.706"
      ]
     },
     "metadata": {},
     "output_type": "display_data"
    }
   ],
   "source": [
    "mean(d$char)"
   ]
  },
  {
   "cell_type": "code",
   "execution_count": 15,
   "metadata": {
    "collapsed": false
   },
   "outputs": [
    {
     "data": {
      "text/html": [
       "424.42"
      ],
      "text/latex": [
       "424.42"
      ],
      "text/markdown": [
       "424.42"
      ],
      "text/plain": [
       "[1] 424.42"
      ]
     },
     "metadata": {},
     "output_type": "display_data"
    }
   ],
   "source": [
    "median(d$char)"
   ]
  },
  {
   "cell_type": "markdown",
   "metadata": {},
   "source": [
    "the mean is very distant from the median. A few client work a lot on Upwork and they contribute a lot to the mean"
   ]
  },
  {
   "cell_type": "code",
   "execution_count": 13,
   "metadata": {
    "collapsed": false
   },
   "outputs": [
    {
     "data": {
      "text/html": [
       "<dl class=dl-horizontal>\n",
       "\t<dt>1</dt>\n",
       "\t\t<dd>22.9471544715447</dd>\n",
       "\t<dt>2</dt>\n",
       "\t\t<dd>23.0956651718984</dd>\n",
       "\t<dt>3</dt>\n",
       "\t\t<dd>24.0367892976589</dd>\n",
       "</dl>\n"
      ],
      "text/plain": [
       "       1        2        3 \n",
       "22.94715 23.09567 24.03679 "
      ]
     },
     "metadata": {},
     "output_type": "display_data"
    }
   ],
   "source": [
    "tapply(d$cand, d$tier, mean)"
   ]
  },
  {
   "cell_type": "code",
   "execution_count": 9,
   "metadata": {
    "collapsed": false
   },
   "outputs": [
    {
     "data": {
      "text/html": [
       "<dl class=dl-horizontal>\n",
       "\t<dt>1</dt>\n",
       "\t\t<dd>0.116422764227642</dd>\n",
       "\t<dt>2</dt>\n",
       "\t\t<dd>0.11932735426009</dd>\n",
       "\t<dt>3</dt>\n",
       "\t\t<dd>0.109933110367893</dd>\n",
       "</dl>\n"
      ],
      "text/plain": [
       "        1         2         3 \n",
       "0.1164228 0.1193274 0.1099331 "
      ]
     },
     "metadata": {},
     "output_type": "display_data"
    }
   ],
   "source": [
    "tapply(d$inte, d$tier, mean)"
   ]
  },
  {
   "cell_type": "code",
   "execution_count": 6,
   "metadata": {
    "collapsed": false
   },
   "outputs": [
    {
     "data": {
      "text/html": [
       "<dl class=dl-horizontal>\n",
       "\t<dt>1</dt>\n",
       "\t\t<dd>6456.66914634146</dd>\n",
       "\t<dt>2</dt>\n",
       "\t\t<dd>8377.60895366218</dd>\n",
       "\t<dt>3</dt>\n",
       "\t\t<dd>8980.29936454849</dd>\n",
       "</dl>\n"
      ],
      "text/plain": [
       "       1        2        3 \n",
       "6456.669 8377.609 8980.299 "
      ]
     },
     "metadata": {},
     "output_type": "display_data"
    }
   ],
   "source": [
    "tapply(d$char, d$tier, mean)"
   ]
  },
  {
   "cell_type": "markdown",
   "metadata": {},
   "source": [
    "There doesn't seem to be a significant difference in number of candidates, interest ratio or total charge for the client depending on the tier. It can just be obsevred that offers about the cheapest professionals are issued in average by clients with a lower total charge"
   ]
  },
  {
   "cell_type": "code",
   "execution_count": 7,
   "metadata": {
    "collapsed": false,
    "scrolled": true
   },
   "outputs": [
    {
     "data": {
      "text/html": [
       "<dl class=dl-horizontal>\n",
       "\t<dt>1</dt>\n",
       "\t\t<dd>373.375</dd>\n",
       "\t<dt>2</dt>\n",
       "\t\t<dd>478.34</dd>\n",
       "\t<dt>3</dt>\n",
       "\t\t<dd>479.95</dd>\n",
       "</dl>\n"
      ],
      "text/plain": [
       "      1       2       3 \n",
       "373.375 478.340 479.950 "
      ]
     },
     "metadata": {},
     "output_type": "display_data"
    }
   ],
   "source": [
    "tapply(d$char, d$tier, median)"
   ]
  },
  {
   "cell_type": "code",
   "execution_count": 12,
   "metadata": {
    "collapsed": false
   },
   "outputs": [
    {
     "data": {
      "text/html": [
       "<dl class=dl-horizontal>\n",
       "\t<dt>1</dt>\n",
       "\t\t<dd>19</dd>\n",
       "\t<dt>2</dt>\n",
       "\t\t<dd>19</dd>\n",
       "\t<dt>3</dt>\n",
       "\t\t<dd>20</dd>\n",
       "</dl>\n"
      ],
      "text/plain": [
       " 1  2  3 \n",
       "19 19 20 "
      ]
     },
     "metadata": {},
     "output_type": "display_data"
    }
   ],
   "source": [
    "tapply(d$cand, d$tier, median)"
   ]
  }
 ],
 "metadata": {
  "kernelspec": {
   "display_name": "R",
   "language": "R",
   "name": "ir"
  },
  "language_info": {
   "codemirror_mode": "r",
   "file_extension": ".r",
   "mimetype": "text/x-r-source",
   "name": "R",
   "pygments_lexer": "r",
   "version": "3.2.3"
  }
 },
 "nbformat": 4,
 "nbformat_minor": 2
}
